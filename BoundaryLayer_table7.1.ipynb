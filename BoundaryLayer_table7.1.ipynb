{
 "cells": [
  {
   "cell_type": "markdown",
   "id": "36f139f7",
   "metadata": {},
   "source": [
    "## Flujo paralelo sobre placas planas"
   ]
  },
  {
   "cell_type": "markdown",
   "id": "be71ce27",
   "metadata": {},
   "source": [
    "El problema hidrodinámico de la capa límite se reduce a resolver una ecuación diferencial ordinaria de tercer orden nolineal\n",
    "\n",
    "$$2 \\dfrac{d^3 f}{d \\eta ^3} +  f \\dfrac{d^2 f}{d \\eta^2}=0 $$\n",
    "\n",
    "Las condiciones de frontera en términos de variables de similitud son\n",
    "\n",
    "$$\\dfrac{df}{d \\eta} |_{\\eta=0} = f(0)= 0,$$\n",
    "$$\\qquad  \\qquad \\dfrac{df}{d\\eta} |_{\\eta=\\infty}  = 1$$\n",
    "\n",
    "La solución de la ecuación (1) con las condiciones de frontera mencionadas, se obtiene mediante una expansión en serie o por integración numérica. En lo que sigue se muestran las funciones de capa límite para una placa plana.\n",
    "\n",
    "\n"
   ]
  },
  {
   "cell_type": "code",
   "execution_count": 1,
   "id": "6f340073",
   "metadata": {},
   "outputs": [],
   "source": [
    "import numpy as np\n",
    "import matplotlib.pyplot as plt\n",
    "import pandas as pd"
   ]
  },
  {
   "cell_type": "code",
   "execution_count": 2,
   "id": "14810c8d",
   "metadata": {},
   "outputs": [
    {
     "data": {
      "text/plain": [
       "array([0. , 0.4, 0.8, 1.2, 1.6, 2. , 2.4, 2.8, 3.2, 3.6, 4. , 4.4, 4.8,\n",
       "       5.2, 5.6, 6. , 6.4, 6.8])"
      ]
     },
     "execution_count": 2,
     "metadata": {},
     "output_type": "execute_result"
    }
   ],
   "source": [
    "eta = np.arange(0,7,0.4)\n",
    "eta"
   ]
  },
  {
   "cell_type": "code",
   "execution_count": 3,
   "id": "47221f8c",
   "metadata": {
    "code_folding": []
   },
   "outputs": [
    {
     "data": {
      "text/html": [
       "<div>\n",
       "<style scoped>\n",
       "    .dataframe tbody tr th:only-of-type {\n",
       "        vertical-align: middle;\n",
       "    }\n",
       "\n",
       "    .dataframe tbody tr th {\n",
       "        vertical-align: top;\n",
       "    }\n",
       "\n",
       "    .dataframe thead th {\n",
       "        text-align: right;\n",
       "    }\n",
       "</style>\n",
       "<table border=\"1\" class=\"dataframe\">\n",
       "  <thead>\n",
       "    <tr style=\"text-align: right;\">\n",
       "      <th></th>\n",
       "      <th>n</th>\n",
       "      <th>f</th>\n",
       "      <th>dfdn</th>\n",
       "      <th>dfdn2</th>\n",
       "    </tr>\n",
       "  </thead>\n",
       "  <tbody>\n",
       "    <tr>\n",
       "      <th>0</th>\n",
       "      <td>0.0</td>\n",
       "      <td>0.000</td>\n",
       "      <td>0.000</td>\n",
       "      <td>0.332</td>\n",
       "    </tr>\n",
       "    <tr>\n",
       "      <th>1</th>\n",
       "      <td>0.4</td>\n",
       "      <td>0.027</td>\n",
       "      <td>0.133</td>\n",
       "      <td>0.331</td>\n",
       "    </tr>\n",
       "    <tr>\n",
       "      <th>2</th>\n",
       "      <td>0.8</td>\n",
       "      <td>0.106</td>\n",
       "      <td>0.265</td>\n",
       "      <td>0.327</td>\n",
       "    </tr>\n",
       "    <tr>\n",
       "      <th>3</th>\n",
       "      <td>1.2</td>\n",
       "      <td>0.238</td>\n",
       "      <td>0.394</td>\n",
       "      <td>0.317</td>\n",
       "    </tr>\n",
       "    <tr>\n",
       "      <th>4</th>\n",
       "      <td>1.6</td>\n",
       "      <td>0.420</td>\n",
       "      <td>0.517</td>\n",
       "      <td>0.297</td>\n",
       "    </tr>\n",
       "    <tr>\n",
       "      <th>5</th>\n",
       "      <td>2.0</td>\n",
       "      <td>0.650</td>\n",
       "      <td>0.630</td>\n",
       "      <td>0.267</td>\n",
       "    </tr>\n",
       "    <tr>\n",
       "      <th>6</th>\n",
       "      <td>2.4</td>\n",
       "      <td>0.922</td>\n",
       "      <td>0.729</td>\n",
       "      <td>0.228</td>\n",
       "    </tr>\n",
       "    <tr>\n",
       "      <th>7</th>\n",
       "      <td>2.8</td>\n",
       "      <td>1.231</td>\n",
       "      <td>0.812</td>\n",
       "      <td>0.184</td>\n",
       "    </tr>\n",
       "    <tr>\n",
       "      <th>8</th>\n",
       "      <td>3.2</td>\n",
       "      <td>1.569</td>\n",
       "      <td>0.876</td>\n",
       "      <td>0.139</td>\n",
       "    </tr>\n",
       "    <tr>\n",
       "      <th>9</th>\n",
       "      <td>3.6</td>\n",
       "      <td>1.930</td>\n",
       "      <td>0.923</td>\n",
       "      <td>0.098</td>\n",
       "    </tr>\n",
       "    <tr>\n",
       "      <th>10</th>\n",
       "      <td>4.0</td>\n",
       "      <td>2.306</td>\n",
       "      <td>0.956</td>\n",
       "      <td>0.064</td>\n",
       "    </tr>\n",
       "    <tr>\n",
       "      <th>11</th>\n",
       "      <td>4.4</td>\n",
       "      <td>2.692</td>\n",
       "      <td>0.976</td>\n",
       "      <td>0.039</td>\n",
       "    </tr>\n",
       "    <tr>\n",
       "      <th>12</th>\n",
       "      <td>4.8</td>\n",
       "      <td>3.085</td>\n",
       "      <td>0.988</td>\n",
       "      <td>0.022</td>\n",
       "    </tr>\n",
       "    <tr>\n",
       "      <th>13</th>\n",
       "      <td>5.2</td>\n",
       "      <td>3.482</td>\n",
       "      <td>0.994</td>\n",
       "      <td>0.011</td>\n",
       "    </tr>\n",
       "    <tr>\n",
       "      <th>14</th>\n",
       "      <td>5.6</td>\n",
       "      <td>3.880</td>\n",
       "      <td>0.997</td>\n",
       "      <td>0.005</td>\n",
       "    </tr>\n",
       "    <tr>\n",
       "      <th>15</th>\n",
       "      <td>6.0</td>\n",
       "      <td>4.280</td>\n",
       "      <td>0.999</td>\n",
       "      <td>0.002</td>\n",
       "    </tr>\n",
       "    <tr>\n",
       "      <th>16</th>\n",
       "      <td>6.4</td>\n",
       "      <td>4.679</td>\n",
       "      <td>1.000</td>\n",
       "      <td>0.001</td>\n",
       "    </tr>\n",
       "    <tr>\n",
       "      <th>17</th>\n",
       "      <td>6.8</td>\n",
       "      <td>5.079</td>\n",
       "      <td>1.000</td>\n",
       "      <td>0.000</td>\n",
       "    </tr>\n",
       "  </tbody>\n",
       "</table>\n",
       "</div>"
      ],
      "text/plain": [
       "      n      f   dfdn  dfdn2\n",
       "0   0.0  0.000  0.000  0.332\n",
       "1   0.4  0.027  0.133  0.331\n",
       "2   0.8  0.106  0.265  0.327\n",
       "3   1.2  0.238  0.394  0.317\n",
       "4   1.6  0.420  0.517  0.297\n",
       "5   2.0  0.650  0.630  0.267\n",
       "6   2.4  0.922  0.729  0.228\n",
       "7   2.8  1.231  0.812  0.184\n",
       "8   3.2  1.569  0.876  0.139\n",
       "9   3.6  1.930  0.923  0.098\n",
       "10  4.0  2.306  0.956  0.064\n",
       "11  4.4  2.692  0.976  0.039\n",
       "12  4.8  3.085  0.988  0.022\n",
       "13  5.2  3.482  0.994  0.011\n",
       "14  5.6  3.880  0.997  0.005\n",
       "15  6.0  4.280  0.999  0.002\n",
       "16  6.4  4.679  1.000  0.001\n",
       "17  6.8  5.079  1.000  0.000"
      ]
     },
     "execution_count": 3,
     "metadata": {},
     "output_type": "execute_result"
    }
   ],
   "source": [
    "#Tabla 7.1 Fundamentos de transferencia de calor\n",
    "data = {'n':  eta,\n",
    "        'f': [0.   , 0.027, 0.106, 0.238, 0.42 , 0.65 , 0.922, 1.231, 1.569,\n",
    "       1.93 , 2.306, 2.692, 3.085, 3.482, 3.88 , 4.28 , 4.679, 5.079],'dfdn':[0.   , 0.133, 0.265, 0.394, 0.517, 0.63 , 0.729, 0.812, 0.876,\n",
    "       0.923, 0.956, 0.976, 0.988, 0.994, 0.997, 0.999, 1.   , 1.   ],'dfdn2':[0.332, 0.331, 0.327, 0.317, 0.297, 0.267, 0.228, 0.184, 0.139,\n",
    "       0.098, 0.064, 0.039, 0.022, 0.011, 0.005, 0.002, 0.001, 0.   ],\n",
    "       }\n",
    "\n",
    "t7 = pd.DataFrame(data)\n",
    "t7"
   ]
  },
  {
   "cell_type": "markdown",
   "id": "40801b0b",
   "metadata": {},
   "source": [
    "Graficamos $\\quad f(\\eta),\\quad \\dfrac{df}{d\\eta} = \\dfrac{u}{u_\\infty}, \\quad \\dfrac{d^2f}{d \\eta^2} $ "
   ]
  },
  {
   "cell_type": "code",
   "execution_count": 4,
   "id": "c2926b8e",
   "metadata": {
    "code_folding": []
   },
   "outputs": [
    {
     "data": {
      "image/png": "[encoded data removed]",
      "text/plain": [
       "<Figure size 360x360 with 1 Axes>"
      ]
     },
     "metadata": {
      "needs_background": "light"
     },
     "output_type": "display_data"
    }
   ],
   "source": [
    "#grafica\n",
    "plt.figure(figsize=(5,5))\n",
    "fig = plt.subplot()\n",
    "fig.plot(t7.n,t7.f, label = '$f(\\eta)$')\n",
    "fig.plot(t7.n,t7.dfdn, label = \"$\\dfrac{df}{d \\eta}$\")\n",
    "fig.plot(t7.n,t7.dfdn2, label = \"$\\dfrac{d^2f}{d \\eta^2}$\")\n",
    "fig.plot()\n",
    "plt.legend(fontsize=12)\n",
    "plt.xlabel('$\\eta$',fontsize=12)\n",
    "plt.show()"
   ]
  },
  {
   "cell_type": "code",
   "execution_count": 5,
   "id": "7167d6ce",
   "metadata": {
    "code_folding": []
   },
   "outputs": [
    {
     "name": "stderr",
     "output_type": "stream",
     "text": [
      "/tmp/ipykernel_64584/1671739967.py:26: FutureWarning: The frame.append method is deprecated and will be removed from pandas in a future version. Use pandas.concat instead.\n",
      "  dfn1 = t7.append(eta1,ignore_index=True)\n",
      "/tmp/ipykernel_64584/1671739967.py:27: FutureWarning: The frame.append method is deprecated and will be removed from pandas in a future version. Use pandas.concat instead.\n",
      "  dfn2 = t7.append(eta2,ignore_index=True)\n",
      "/tmp/ipykernel_64584/1671739967.py:28: FutureWarning: The frame.append method is deprecated and will be removed from pandas in a future version. Use pandas.concat instead.\n",
      "  dfn3 = t7.append(eta3,ignore_index=True)\n"
     ]
    }
   ],
   "source": [
    "#Interpolar\n",
    "dfdn  = t7.dfdn\n",
    "eta   = t7.n.astype(float)\n",
    "\n",
    "#Defino los valores de la tarea\n",
    "ui    = 0.01\n",
    "nu    = 0.00000179\n",
    "x1    = 0.01\n",
    "x2    = 0.1\n",
    "x3    = 1\n",
    "y1    = np.linspace(0,0.1,18)\n",
    "y2    = np.linspace(0,0.1,18)\n",
    "y3    = np.linspace(0,0.1,18)\n",
    "\n",
    "#Defino eta para cada valor de x\n",
    "n1    = y1*np.sqrt((ui)/(nu*x1))\n",
    "n2    = y2*np.sqrt((ui)/(nu*x2))\n",
    "n3    = y3*np.sqrt((ui)/(nu*x3))\n",
    "\n",
    "#Creo un dataframe\n",
    "eta1 = pd.DataFrame({'n':n1})\n",
    "eta2 = pd.DataFrame({'n':n2})\n",
    "eta3 = pd.DataFrame({'n':n3})\n",
    "\n",
    "#Añado los valores de eta a la tabla 7.1\n",
    "dfn1 = t7.append(eta1,ignore_index=True)\n",
    "dfn2 = t7.append(eta2,ignore_index=True)\n",
    "dfn3 = t7.append(eta3,ignore_index=True)\n",
    "\n",
    "#Ordeno los valores de eta para poder hacer la interpolación\n",
    "dfn1 = dfn1.sort_values(by='n')\n",
    "dfn2 = dfn2.sort_values(by='n')\n",
    "dfn3 = dfn3.sort_values(by='n')\n",
    "\n",
    "#Interpolo\n",
    "df_n1 = dfn1.interpolate()\n",
    "df_n2 = dfn2.interpolate()\n",
    "df_n3 = dfn3.interpolate()\n",
    "\n",
    "#Arreglo los índices para encontrar mis valores de eta\n",
    "df_n1s = df_n1.sort_index()\n",
    "df_n2s = df_n2.sort_index()\n",
    "df_n3s = df_n3.sort_index()\n",
    "\n",
    "#Defino un arreglo en el intervalo en los que están con mis valores\n",
    "df_eta1= df_n1s.iloc[18:36]\n",
    "df_eta2= df_n2s.iloc[18:36]\n",
    "df_eta3= df_n3s.iloc[18:36]"
   ]
  },
  {
   "cell_type": "code",
   "execution_count": 6,
   "id": "4163066f",
   "metadata": {
    "code_folding": []
   },
   "outputs": [
    {
     "data": {
      "image/png": "[encoded data removed]",
      "text/plain": [
       "<Figure size 1296x288 with 3 Axes>"
      ]
     },
     "metadata": {
      "needs_background": "light"
     },
     "output_type": "display_data"
    }
   ],
   "source": [
    "#Grafico para cada x\n",
    "\n",
    "fig, axs = plt.subplots(1, 3,figsize=(18,4))\n",
    "\n",
    "axs[0].plot(df_eta1.n,df_eta1.f, label='$f(\\eta)$')\n",
    "axs[0].plot(df_eta1.n,df_eta1.dfdn, label='$\\dfrac{df}{d \\eta}$')\n",
    "axs[0].plot(df_eta1.n,df_eta1.dfdn2, label=\"$\\dfrac{d^2f}{d \\eta^2}$\")\n",
    "axs[0].set_xlabel(\"$\\eta$\")\n",
    "axs[0].set_title(\"x=0.01\")\n",
    "axs[0].legend()\n",
    "\n",
    "axs[1].plot(df_eta2.n,df_eta2.f, label='$f(\\eta)$')\n",
    "axs[1].plot(df_eta2.n,df_eta2.dfdn, label='$\\dfrac{df}{d \\eta}$')\n",
    "axs[1].plot(df_eta2.n,df_eta2.dfdn2, label=\"$\\dfrac{d^2f}{d \\eta^2}$\")\n",
    "axs[1].set_xlabel(\"$\\eta$\")\n",
    "axs[1].set_title(\"x=0.1\")\n",
    "axs[1].legend()\n",
    "\n",
    "axs[2].plot(df_eta3.n,df_eta3.f, label='$f(\\eta)$')\n",
    "axs[2].plot(df_eta3.n,df_eta3.dfdn, label='$\\dfrac{df}{d \\eta}$')\n",
    "axs[2].plot(df_eta3.n,df_eta3.dfdn2, label=\"$\\dfrac{d^2f}{d \\eta^2}$\")\n",
    "axs[2].set_xlabel(\"$\\eta$\")\n",
    "axs[2].set_title(\"x=1\")\n",
    "axs[2].legend()\n",
    "\n",
    "plt.show()\n"
   ]
  },
  {
   "cell_type": "code",
   "execution_count": 7,
   "id": "a3bfe843",
   "metadata": {
    "code_folding": []
   },
   "outputs": [
    {
     "data": {
      "image/png": "[encoded data removed]",
      "text/plain": [
       "<Figure size 576x432 with 1 Axes>"
      ]
     },
     "metadata": {
      "needs_background": "light"
     },
     "output_type": "display_data"
    }
   ],
   "source": [
    "#Encuentro u(y)\n",
    "ui = 0.01\n",
    "\n",
    "u1 = ui*df_eta1.dfdn\n",
    "u2 = ui*df_eta2.dfdn\n",
    "u3 = ui*df_eta3.dfdn\n",
    "\n",
    "fig, ax = plt.subplots(figsize=(8,6))\n",
    "\n",
    "ax.plot(y1,u1/ui,label=\"$x=0.01$\")\n",
    "ax.plot(y2,u2/ui,label=\"$x=0.1$\")\n",
    "ax.plot(y3,u3/ui,label=\"$x=1$\")\n",
    "ax.legend()\n",
    "ax.set_xlabel('$y$')\n",
    "ax.set_ylabel(\"$ \\dfrac{u}{u_{\\infty}} = \\dfrac{df}{d\\eta}$\",rotation=0,labelpad=40)\n",
    "plt.show()"
   ]
  },
  {
   "cell_type": "code",
   "execution_count": 8,
   "id": "88decbfb",
   "metadata": {
    "code_folding": [
     0
    ]
   },
   "outputs": [
    {
     "data": {
      "image/png": "[encoded data removed]",
      "text/plain": [
       "<Figure size 432x288 with 1 Axes>"
      ]
     },
     "metadata": {
      "needs_background": "light"
     },
     "output_type": "display_data"
    }
   ],
   "source": [
    "#Espesor de la capa límite como función de x\n"
   ]
  },
  {
   "cell_type": "code",
   "execution_count": null,
   "id": "a1b10963",
   "metadata": {},
   "outputs": [],
   "source": []
  }
 ],
 "metadata": {
  "kernelspec": {
   "display_name": "Python 3 (ipykernel)",
   "language": "python",
   "name": "python3"
  },
  "language_info": {
   "codemirror_mode": {
    "name": "ipython",
    "version": 3
   },
   "file_extension": ".py",
   "mimetype": "text/x-python",
   "name": "python",
   "nbconvert_exporter": "python",
   "pygments_lexer": "ipython3",
   "version": "3.8.10"
  },
  "latex_envs": {
   "LaTeX_envs_menu_present": true,
   "autoclose": true,
   "autocomplete": true,
   "bibliofile": "biblio.bib",
   "cite_by": "apalike",
   "current_citInitial": 1,
   "eqLabelWithNumbers": true,
   "eqNumInitial": 1,
   "hotkeys": {
    "equation": "Ctrl-E",
    "itemize": "Ctrl-I"
   },
   "labels_anchors": false,
   "latex_user_defs": false,
   "report_style_numbering": false,
   "user_envs_cfg": false
  },
  "varInspector": {
   "cols": {
    "lenName": 16,
    "lenType": 16,
    "lenVar": 40
   },
   "kernels_config": {
    "python": {
     "delete_cmd_postfix": "",
     "delete_cmd_prefix": "del ",
     "library": "var_list.py",
     "varRefreshCmd": "print(var_dic_list())"
    },
    "r": {
     "delete_cmd_postfix": ") ",
     "delete_cmd_prefix": "rm(",
     "library": "var_list.r",
     "varRefreshCmd": "cat(var_dic_list()) "
    }
   },
   "types_to_exclude": [
    "module",
    "function",
    "builtin_function_or_method",
    "instance",
    "_Feature"
   ],
   "window_display": false
  }
 },
 "nbformat": 4,
 "nbformat_minor": 5
}
